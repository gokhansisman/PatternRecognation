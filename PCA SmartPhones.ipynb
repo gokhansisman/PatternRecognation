{
 "cells": [
  {
   "cell_type": "code",
   "execution_count": 1,
   "metadata": {},
   "outputs": [],
   "source": [
    "import pandas as pd\n",
    "import numpy as np\n",
    "from sklearn.metrics import accuracy_score\n",
    "from sklearn.model_selection import train_test_split\n",
    "from sklearn.tree import DecisionTreeClassifier\n",
    "import matplotlib.pyplot as plt\n",
    "from sklearn.metrics import confusion_matrix\n",
    "import seaborn as sn\n",
    "from sklearn.utils import shuffle\n",
    "from sklearn import linear_model"
   ]
  },
  {
   "cell_type": "code",
   "execution_count": 2,
   "metadata": {},
   "outputs": [
    {
     "name": "stderr",
     "output_type": "stream",
     "text": [
      "C:\\Anaconda3\\envs\\tensorflow-sessions\\lib\\site-packages\\ipykernel_launcher.py:3: FutureWarning: read_table is deprecated, use read_csv instead, passing sep='\\t'.\n",
      "  This is separate from the ipykernel package so we can avoid doing imports until\n",
      "C:\\Anaconda3\\envs\\tensorflow-sessions\\lib\\site-packages\\ipykernel_launcher.py:4: FutureWarning: read_table is deprecated, use read_csv instead, passing sep='\\t'.\n",
      "  after removing the cwd from sys.path.\n",
      "C:\\Anaconda3\\envs\\tensorflow-sessions\\lib\\site-packages\\numpy\\core\\numeric.py:501: ComplexWarning: Casting complex values to real discards the imaginary part\n",
      "  return array(a, dtype, copy=False, order=order)\n"
     ]
    },
    {
     "data": {
      "image/png": "[encoded data removed]",
      "text/plain": [
       "<Figure size 432x288 with 1 Axes>"
      ]
     },
     "metadata": {
      "needs_background": "light"
     },
     "output_type": "display_data"
    }
   ],
   "source": [
    "#PCA - (Principle Component Analysis)\n",
    "#Uygulama\n",
    "trainX = pd.read_table('./X_train.txt', delim_whitespace=True,header=None)\n",
    "trainy = pd.read_table('./y_train.txt',delim_whitespace=True,header=None)\n",
    "testX = pd.read_csv(\"./X_test.txt\",delim_whitespace=True,header=None)\n",
    "testy = pd.read_csv('./y_test.txt',delim_whitespace=True,header=None)\n",
    "one = [trainX,testX]\n",
    "two = [trainy,testy]\n",
    "X_df = pd.concat(one)\n",
    "y_df = pd.concat(two)\n",
    "\n",
    "# PCA için yardımcı fonksiyonlar\n",
    "def fetaure_norm(X):\n",
    "    mu = X.mean(axis=0)\n",
    "    stdv = X.std(axis = 0)\n",
    "\n",
    "    X_norm = (X - mu)/stdv\n",
    "    return X_norm\n",
    "\n",
    "def pca(X):\n",
    "    m,n = X.shape\n",
    "    \n",
    "    sigma = (1/m) * X.T * X\n",
    "    a, b = np.linalg.eig(sigma)\n",
    "    \n",
    "    sort = a.argsort()[::-1]\n",
    "    eigVal = a[sort]\n",
    "    eigVec = b[:,sort]\n",
    "    \n",
    "    return eigVal,eigVec\n",
    "\n",
    "def reduced_data(X, U, k):\n",
    "    U_reduce = U[:,:k]\n",
    "    Z = U_reduce.T * X.T\n",
    "    return Z\n",
    "\n",
    "def recover_data(Z,U,K):\n",
    "    X_rec = Z.T * U[:,:k].T\n",
    "    return X_rec\n",
    "\n",
    "def variance_cal(S,k,m):\n",
    "    total1 = 0\n",
    "    total2 = 0\n",
    "    for i in range(1,k):\n",
    "        total1 = total1 + S[i]\n",
    "    \n",
    "    for j in range(1,m):\n",
    "        total2 = total2 + S[j]\n",
    "        \n",
    "    variance = total1/total2\n",
    "    return variance\n",
    "\n",
    "\n",
    "X = np.asmatrix(X_df)\n",
    "y = np.asmatrix(y_df)\n",
    "\n",
    "X_norm = fetaure_norm(X)\n",
    "m,n = X_norm.shape\n",
    "a,b = pca(X_norm)\n",
    "tes = np.array([])\n",
    "li = list(range(10,250))\n",
    "for k in li:\n",
    "    Z = reduced_data(X_norm,b,k)\n",
    "    X_recov = recover_data(Z,b,k)\n",
    "    test1 = variance_cal(a,k,n)\n",
    "    tes = np.append(tes,test1)\n",
    "\n",
    "plt.plot(li,tes, label = 'Variance Curve')\n",
    "plt.title('PCA Dimentionality Reduction ')\n",
    "plt.ylabel('Variance Covered')\n",
    "plt.xlabel('Number of Features')\n",
    "plt.legend()\n",
    "plt.show()"
   ]
  },
  {
   "cell_type": "code",
   "execution_count": null,
   "metadata": {},
   "outputs": [],
   "source": []
  }
 ],
 "metadata": {
  "kernelspec": {
   "display_name": "Python 3",
   "language": "python",
   "name": "python3"
  },
  "language_info": {
   "codemirror_mode": {
    "name": "ipython",
    "version": 3
   },
   "file_extension": ".py",
   "mimetype": "text/x-python",
   "name": "python",
   "nbconvert_exporter": "python",
   "pygments_lexer": "ipython3",
   "version": "3.6.8"
  }
 },
 "nbformat": 4,
 "nbformat_minor": 2
}
